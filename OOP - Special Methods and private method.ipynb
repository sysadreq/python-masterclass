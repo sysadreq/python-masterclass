{
 "cells": [
  {
   "cell_type": "markdown",
   "metadata": {},
   "source": [
    "# Special Methods and private method"
   ]
  },
  {
   "cell_type": "code",
   "execution_count": 28,
   "metadata": {},
   "outputs": [],
   "source": [
    "class Person():\n",
    "    \n",
    "    def __init__(self,firstname,lastname):\n",
    "        self.firstname = firstname\n",
    "        self.lastname = lastname\n",
    "        \n",
    "        \n",
    "    def report(self):\n",
    "        print(f'I am {self.firstname} {self.lastname} ')\n",
    "        \n",
    "        \n",
    "    def hello(self):\n",
    "        print('hello')\n",
    "\n",
    "\n",
    "\n",
    "class Agent(Person):\n",
    "    def __init__(self,firstname,lastname,code_name):\n",
    "        \n",
    "        Person.__init__(self, firstname,lastname)\n",
    "        self.code_name = code_name\n",
    "        \n",
    "    def report(self):\n",
    "        print('sorry, i cannot tell you my realname')\n",
    "        print(f'but you can call me {self.code_name}')\n",
    "        \n",
    "        \n",
    "    def true_name(self,passcode):\n",
    "        if passcode == 123:\n",
    "            print('correct password')\n",
    "            print(f'I am {self.firstname} {self.lastname} ')\n",
    "        else:\n",
    "            self.report()\n",
    "            \n",
    "    #private methods start with a single underscore        \n",
    "    def _private_method(self):\n",
    "        print('private method')"
   ]
  },
  {
   "cell_type": "code",
   "execution_count": 24,
   "metadata": {},
   "outputs": [],
   "source": [
    "a = Agent(firstname='Alan', lastname='Turing', code_name='hero')"
   ]
  },
  {
   "cell_type": "code",
   "execution_count": 25,
   "metadata": {},
   "outputs": [
    {
     "name": "stdout",
     "output_type": "stream",
     "text": [
      "sorry, i cannot tell you my realname\n",
      "but you can call me hero\n"
     ]
    }
   ],
   "source": [
    "a.report()"
   ]
  },
  {
   "cell_type": "code",
   "execution_count": 26,
   "metadata": {},
   "outputs": [
    {
     "data": {
      "text/plain": [
       "'Alan'"
      ]
     },
     "execution_count": 26,
     "metadata": {},
     "output_type": "execute_result"
    }
   ],
   "source": [
    "a.firstname"
   ]
  },
  {
   "cell_type": "code",
   "execution_count": 27,
   "metadata": {},
   "outputs": [
    {
     "name": "stdout",
     "output_type": "stream",
     "text": [
      "private method\n"
     ]
    }
   ],
   "source": [
    "a._private_method()"
   ]
  },
  {
   "cell_type": "code",
   "execution_count": 4,
   "metadata": {},
   "outputs": [],
   "source": [
    "#built-in SPECIAL methods\n",
    "#\n",
    "\n",
    "class Book():\n",
    "    def __init__(self,title,author,pages):\n",
    "        self.title=title\n",
    "        self.author=author\n",
    "        self.pages=pages\n",
    "        \n",
    "        \n",
    "    def __str__(self):\n",
    "       # return 'string rep'\n",
    "        return f'Title is {self.title} and author is {self.author}'\n",
    "    \n",
    "    \n",
    "    def __len__(self):\n",
    "        return self.pages\n",
    "\n",
    "    #delete a variable mapped to memory\n",
    "    def __del__(self):\n",
    "        print('a book has been deleted')"
   ]
  },
  {
   "cell_type": "code",
   "execution_count": 50,
   "metadata": {},
   "outputs": [],
   "source": [
    "b = Book('Python rocks', 'James bond',200)"
   ]
  },
  {
   "cell_type": "code",
   "execution_count": 47,
   "metadata": {},
   "outputs": [
    {
     "name": "stdout",
     "output_type": "stream",
     "text": [
      "Title is Python rocks and author is James bond\n"
     ]
    }
   ],
   "source": [
    "print(b)"
   ]
  },
  {
   "cell_type": "code",
   "execution_count": 51,
   "metadata": {},
   "outputs": [
    {
     "data": {
      "text/plain": [
       "200"
      ]
     },
     "execution_count": 51,
     "metadata": {},
     "output_type": "execute_result"
    }
   ],
   "source": [
    "len(b)"
   ]
  },
  {
   "cell_type": "code",
   "execution_count": 52,
   "metadata": {},
   "outputs": [
    {
     "name": "stdout",
     "output_type": "stream",
     "text": [
      "a book has been deleted\n"
     ]
    }
   ],
   "source": [
    "del(b)"
   ]
  },
  {
   "cell_type": "code",
   "execution_count": 53,
   "metadata": {},
   "outputs": [
    {
     "ename": "NameError",
     "evalue": "name 'b' is not defined",
     "output_type": "error",
     "traceback": [
      "\u001b[1;31m---------------------------------------------------------------------------\u001b[0m",
      "\u001b[1;31mNameError\u001b[0m                                 Traceback (most recent call last)",
      "\u001b[1;32m<ipython-input-53-89e6c98d9288>\u001b[0m in \u001b[0;36m<module>\u001b[1;34m()\u001b[0m\n\u001b[1;32m----> 1\u001b[1;33m \u001b[0mb\u001b[0m\u001b[1;33m\u001b[0m\u001b[0m\n\u001b[0m",
      "\u001b[1;31mNameError\u001b[0m: name 'b' is not defined"
     ]
    }
   ],
   "source": [
    "b"
   ]
  },
  {
   "cell_type": "code",
   "execution_count": null,
   "metadata": {},
   "outputs": [],
   "source": []
  }
 ],
 "metadata": {
  "kernelspec": {
   "display_name": "Python 3",
   "language": "python",
   "name": "python3"
  },
  "language_info": {
   "codemirror_mode": {
    "name": "ipython",
    "version": 3
   },
   "file_extension": ".py",
   "mimetype": "text/x-python",
   "name": "python",
   "nbconvert_exporter": "python",
   "pygments_lexer": "ipython3",
   "version": "3.7.1"
  }
 },
 "nbformat": 4,
 "nbformat_minor": 2
}
