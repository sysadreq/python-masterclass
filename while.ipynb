{
 "cells": [
  {
   "cell_type": "code",
   "execution_count": 1,
   "metadata": {},
   "outputs": [
    {
     "name": "stdout",
     "output_type": "stream",
     "text": [
      "1\n",
      "2\n",
      "3\n"
     ]
    }
   ],
   "source": [
    "x=1\n",
    "while x <= 3:\n",
    "    print(x)\n",
    "    x=x+1"
   ]
  },
  {
   "cell_type": "code",
   "execution_count": 3,
   "metadata": {},
   "outputs": [
    {
     "name": "stdout",
     "output_type": "stream",
     "text": [
      "y is currently: 0\n",
      "0 Still less than 3\n",
      "\n",
      "\n",
      "y is currently: 1\n",
      "1 Still less than 3\n",
      "\n",
      "\n",
      "y is currently: 2\n",
      "2 Still less than 3\n",
      "\n",
      "\n"
     ]
    }
   ],
   "source": [
    "y = 0\n",
    "while y < 3:\n",
    "    print(f\"y is currently: {y}\")\n",
    "    print(f\"{y} Still less than 3\")\n",
    "    y = y+1\n",
    "    print('\\n')"
   ]
  },
  {
   "cell_type": "markdown",
   "metadata": {},
   "source": [
    "input() - get an input from the user"
   ]
  },
  {
   "cell_type": "code",
   "execution_count": 5,
   "metadata": {},
   "outputs": [
    {
     "name": "stdout",
     "output_type": "stream",
     "text": [
      "Please input a number:2\n"
     ]
    }
   ],
   "source": [
    "saved_input = input('Please input a number:' )"
   ]
  },
  {
   "cell_type": "code",
   "execution_count": 6,
   "metadata": {},
   "outputs": [
    {
     "data": {
      "text/plain": [
       "'2'"
      ]
     },
     "execution_count": 6,
     "metadata": {},
     "output_type": "execute_result"
    }
   ],
   "source": [
    "saved_input"
   ]
  },
  {
   "cell_type": "code",
   "execution_count": 10,
   "metadata": {},
   "outputs": [
    {
     "name": "stdout",
     "output_type": "stream",
     "text": [
      "welcome agent\n",
      "please provide your passcode 2323\n",
      "Wrong passcode\n",
      "please go again\n",
      "\n",
      "\n",
      "please provide your passcode 23435\n",
      "Wrong passcode\n",
      "please go again\n",
      "\n",
      "\n",
      "please provide your passcode 123\n",
      "correct passcode\n"
     ]
    }
   ],
   "source": [
    "print('welcome agent')\n",
    "\n",
    "passcode = 0\n",
    "\n",
    "while passcode != 123:\n",
    "    passcode = int(input('please provide your passcode '))\n",
    "    \n",
    "    if passcode != 123:\n",
    "        print('Wrong passcode')\n",
    "        print('please go again')\n",
    "        print('\\n')\n",
    "print('correct passcode')"
   ]
  },
  {
   "cell_type": "code",
   "execution_count": 9,
   "metadata": {},
   "outputs": [
    {
     "name": "stdout",
     "output_type": "stream",
     "text": [
      "number: 123\n"
     ]
    },
    {
     "data": {
      "text/plain": [
       "123"
      ]
     },
     "execution_count": 9,
     "metadata": {},
     "output_type": "execute_result"
    }
   ],
   "source": [
    "int(input('number: '))"
   ]
  },
  {
   "cell_type": "code",
   "execution_count": 12,
   "metadata": {},
   "outputs": [
    {
     "name": "stdout",
     "output_type": "stream",
     "text": [
      "0\n",
      "1\n",
      "2\n"
     ]
    }
   ],
   "source": [
    "x=0\n",
    "\n",
    "while x < 10:\n",
    "    print(x)\n",
    "    x+=1\n",
    "    \n",
    "    if x==3:\n",
    "        break"
   ]
  },
  {
   "cell_type": "code",
   "execution_count": null,
   "metadata": {},
   "outputs": [],
   "source": []
  }
 ],
 "metadata": {
  "kernelspec": {
   "display_name": "Python 3",
   "language": "python",
   "name": "python3"
  },
  "language_info": {
   "codemirror_mode": {
    "name": "ipython",
    "version": 3
   },
   "file_extension": ".py",
   "mimetype": "text/x-python",
   "name": "python",
   "nbconvert_exporter": "python",
   "pygments_lexer": "ipython3",
   "version": "3.6.4"
  }
 },
 "nbformat": 4,
 "nbformat_minor": 2
}
