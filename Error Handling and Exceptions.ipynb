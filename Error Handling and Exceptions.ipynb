{
 "cells": [
  {
   "cell_type": "raw",
   "metadata": {},
   "source": [
    "#Error Handling and Exceptions\n",
    "\n",
    "try:\n",
    "    # you attempt your operation here\n",
    "except ExceptionI:\n",
    "    # if there is ExceptionI, then execute this block.\n",
    "except ExceptionII:\n",
    "    # if there is ExceptionII, then execute this block.\n",
    "else:\n",
    "    # if there is no exception then execute this block\n",
    "    \n",
    "    "
   ]
  },
  {
   "cell_type": "code",
   "execution_count": 5,
   "metadata": {},
   "outputs": [
    {
     "name": "stdout",
     "output_type": "stream",
     "text": [
      "please imput a number: a\n",
      "make sure you supply a number\n"
     ]
    }
   ],
   "source": [
    "try:\n",
    "    result = input(\"please imput a number: \")\n",
    "    1+int(result)\n",
    "except TypeError:\n",
    "    print('you are not adding the correct things together')\n",
    "except ValueError:\n",
    "    print('make sure you supply a number')\n",
    "else:\n",
    "    print('everything went fine')"
   ]
  },
  {
   "cell_type": "code",
   "execution_count": 10,
   "metadata": {},
   "outputs": [
    {
     "name": "stdout",
     "output_type": "stream",
     "text": [
      "Finally I always run this code\n"
     ]
    }
   ],
   "source": [
    "try:\n",
    "    \n",
    "    f = open('testfile','w')\n",
    "    f.write('test write this')\n",
    "    \n",
    "except:\n",
    "    print('Hey an error occured')\n",
    "    \n",
    "#finally always run regardless\n",
    "finally:\n",
    "    print('Finally I always run this code')"
   ]
  },
  {
   "cell_type": "code",
   "execution_count": null,
   "metadata": {},
   "outputs": [],
   "source": []
  }
 ],
 "metadata": {
  "kernelspec": {
   "display_name": "Python 3",
   "language": "python",
   "name": "python3"
  },
  "language_info": {
   "codemirror_mode": {
    "name": "ipython",
    "version": 3
   },
   "file_extension": ".py",
   "mimetype": "text/x-python",
   "name": "python",
   "nbconvert_exporter": "python",
   "pygments_lexer": "ipython3",
   "version": "3.6.4"
  }
 },
 "nbformat": 4,
 "nbformat_minor": 2
}
