{
 "cells": [
  {
   "cell_type": "code",
   "execution_count": 36,
   "metadata": {},
   "outputs": [],
   "source": [
    "import smtplib"
   ]
  },
  {
   "cell_type": "code",
   "execution_count": 37,
   "metadata": {},
   "outputs": [],
   "source": [
    "smtp_object = smtplib.SMTP('smtp-mail.outlook.com',587)"
   ]
  },
  {
   "cell_type": "code",
   "execution_count": 38,
   "metadata": {},
   "outputs": [],
   "source": [
    "smtp_object.set_debuglevel(1000)"
   ]
  },
  {
   "cell_type": "code",
   "execution_count": 39,
   "metadata": {},
   "outputs": [
    {
     "name": "stderr",
     "output_type": "stream",
     "text": [
      "12:28:48.681704 send: 'ehlo [10.10.10.1]\\r\\n'\n",
      "12:28:48.716948 reply: b'250-MWHPR11CA0034.outlook.office365.com Hello [2601:642:4203:af90:ac66:c65a:4a20:22e3]\\r\\n'\n",
      "12:28:48.716948 reply: b'250-SIZE 157286400\\r\\n'\n",
      "12:28:48.717930 reply: b'250-PIPELINING\\r\\n'\n",
      "12:28:48.717930 reply: b'250-DSN\\r\\n'\n",
      "12:28:48.717930 reply: b'250-ENHANCEDSTATUSCODES\\r\\n'\n",
      "12:28:48.717930 reply: b'250-STARTTLS\\r\\n'\n",
      "12:28:48.717930 reply: b'250-8BITMIME\\r\\n'\n",
      "12:28:48.717930 reply: b'250-BINARYMIME\\r\\n'\n",
      "12:28:48.717930 reply: b'250-CHUNKING\\r\\n'\n",
      "12:28:48.717930 reply: b'250 SMTPUTF8\\r\\n'\n",
      "12:28:48.717930 reply: retcode (250); Msg: b'MWHPR11CA0034.outlook.office365.com Hello [2601:642:4203:af90:ac66:c65a:4a20:22e3]\\nSIZE 157286400\\nPIPELINING\\nDSN\\nENHANCEDSTATUSCODES\\nSTARTTLS\\n8BITMIME\\nBINARYMIME\\nCHUNKING\\nSMTPUTF8'\n"
     ]
    },
    {
     "data": {
      "text/plain": [
       "(250,\n",
       " b'MWHPR11CA0034.outlook.office365.com Hello [2601:642:4203:af90:ac66:c65a:4a20:22e3]\\nSIZE 157286400\\nPIPELINING\\nDSN\\nENHANCEDSTATUSCODES\\nSTARTTLS\\n8BITMIME\\nBINARYMIME\\nCHUNKING\\nSMTPUTF8')"
      ]
     },
     "execution_count": 39,
     "metadata": {},
     "output_type": "execute_result"
    }
   ],
   "source": [
    "smtp_object.ehlo()"
   ]
  },
  {
   "cell_type": "code",
   "execution_count": 40,
   "metadata": {},
   "outputs": [
    {
     "name": "stderr",
     "output_type": "stream",
     "text": [
      "12:28:49.772376 send: 'STARTTLS\\r\\n'\n",
      "12:28:49.806439 reply: b'220 2.0.0 SMTP server ready\\r\\n'\n",
      "12:28:49.806439 reply: retcode (220); Msg: b'2.0.0 SMTP server ready'\n"
     ]
    },
    {
     "data": {
      "text/plain": [
       "(220, b'2.0.0 SMTP server ready')"
      ]
     },
     "execution_count": 40,
     "metadata": {},
     "output_type": "execute_result"
    }
   ],
   "source": [
    "smtp_object.starttls()"
   ]
  },
  {
   "cell_type": "code",
   "execution_count": null,
   "metadata": {},
   "outputs": [],
   "source": []
  },
  {
   "cell_type": "code",
   "execution_count": 41,
   "metadata": {},
   "outputs": [],
   "source": [
    "import getpass"
   ]
  },
  {
   "cell_type": "code",
   "execution_count": null,
   "metadata": {},
   "outputs": [],
   "source": []
  },
  {
   "cell_type": "code",
   "execution_count": 42,
   "metadata": {},
   "outputs": [
    {
     "name": "stdout",
     "output_type": "stream",
     "text": [
      "Password Please········\n"
     ]
    },
    {
     "name": "stderr",
     "output_type": "stream",
     "text": [
      "12:28:59.729660 send: 'ehlo [10.10.10.1]\\r\\n'\n",
      "12:28:59.764685 reply: b'250-MWHPR11CA0034.outlook.office365.com Hello [2601:642:4203:af90:ac66:c65a:4a20:22e3]\\r\\n'\n",
      "12:28:59.764685 reply: b'250-SIZE 157286400\\r\\n'\n",
      "12:28:59.764685 reply: b'250-PIPELINING\\r\\n'\n",
      "12:28:59.764685 reply: b'250-DSN\\r\\n'\n",
      "12:28:59.764685 reply: b'250-ENHANCEDSTATUSCODES\\r\\n'\n",
      "12:28:59.764685 reply: b'250-AUTH LOGIN XOAUTH2\\r\\n'\n",
      "12:28:59.764685 reply: b'250-8BITMIME\\r\\n'\n",
      "12:28:59.764685 reply: b'250-BINARYMIME\\r\\n'\n",
      "12:28:59.764685 reply: b'250-CHUNKING\\r\\n'\n",
      "12:28:59.764685 reply: b'250 SMTPUTF8\\r\\n'\n",
      "12:28:59.764685 reply: retcode (250); Msg: b'MWHPR11CA0034.outlook.office365.com Hello [2601:642:4203:af90:ac66:c65a:4a20:22e3]\\nSIZE 157286400\\nPIPELINING\\nDSN\\nENHANCEDSTATUSCODES\\nAUTH LOGIN XOAUTH2\\n8BITMIME\\nBINARYMIME\\nCHUNKING\\nSMTPUTF8'\n",
      "12:28:59.764685 send: 'AUTH LOGIN cm9ubi5yYW1pcmV6QGhvdG1haWwuY29t\\r\\n'\n",
      "12:28:59.797720 reply: b'334 UGFzc3dvcmQ6\\r\\n'\n",
      "12:28:59.798708 reply: retcode (334); Msg: b'UGFzc3dvcmQ6'\n",
      "12:28:59.798708 send: 'dHZwdXF2ZmNtcW1neHhodQ==\\r\\n'\n",
      "12:29:00.377119 reply: b'235 2.7.0 Authentication successful\\r\\n'\n",
      "12:29:00.377119 reply: retcode (235); Msg: b'2.7.0 Authentication successful'\n"
     ]
    },
    {
     "data": {
      "text/plain": [
       "(235, b'2.7.0 Authentication successful')"
      ]
     },
     "execution_count": 42,
     "metadata": {},
     "output_type": "execute_result"
    }
   ],
   "source": [
    "email = 'ronn.ramirez@hotmail.com'\n",
    "password = getpass.getpass('Password Please')\n",
    "smtp_object.login(email,password)"
   ]
  },
  {
   "cell_type": "code",
   "execution_count": 43,
   "metadata": {},
   "outputs": [
    {
     "name": "stdout",
     "output_type": "stream",
     "text": [
      "enter the subject line: hello\n",
      "enter the body of the message: hello there\n"
     ]
    },
    {
     "name": "stderr",
     "output_type": "stream",
     "text": [
      "12:29:13.753597 send: 'mail FROM:<ronn.ramirez@hotmail.com> size=29\\r\\n'\n",
      "12:29:13.791662 reply: b'250 2.1.0 Sender OK\\r\\n'\n",
      "12:29:13.791662 reply: retcode (250); Msg: b'2.1.0 Sender OK'\n",
      "12:29:13.791662 send: 'rcpt TO:<info@thegoldbugs.com>\\r\\n'\n",
      "12:29:13.825905 reply: b'250 2.1.5 Recipient OK\\r\\n'\n",
      "12:29:13.826856 reply: retcode (250); Msg: b'2.1.5 Recipient OK'\n",
      "12:29:13.826856 send: 'data\\r\\n'\n",
      "12:29:13.869216 reply: b'354 Start mail input; end with <CRLF>.<CRLF>\\r\\n'\n",
      "12:29:13.870164 reply: retcode (354); Msg: b'Start mail input; end with <CRLF>.<CRLF>'\n",
      "12:29:13.870164 data: (354, b'Start mail input; end with <CRLF>.<CRLF>')\n",
      "12:29:13.870164 send: b'Subject: hello\\r\\n\\r\\nhello there\\r\\n.\\r\\n'\n",
      "12:29:14.212440 reply: b'250 2.0.0 OK <f76970b5-1a8a-4db1-b584-733c0bfca793@MWHPR04MB0622.namprd04.prod.outlook.com> [Hostname=MWHPR04MB0622.namprd04.prod.outlook.com]\\r\\n'\n",
      "12:29:14.213388 reply: retcode (250); Msg: b'2.0.0 OK <f76970b5-1a8a-4db1-b584-733c0bfca793@MWHPR04MB0622.namprd04.prod.outlook.com> [Hostname=MWHPR04MB0622.namprd04.prod.outlook.com]'\n",
      "12:29:14.213388 data: (250, b'2.0.0 OK <f76970b5-1a8a-4db1-b584-733c0bfca793@MWHPR04MB0622.namprd04.prod.outlook.com> [Hostname=MWHPR04MB0622.namprd04.prod.outlook.com]')\n"
     ]
    },
    {
     "data": {
      "text/plain": [
       "{}"
      ]
     },
     "execution_count": 43,
     "metadata": {},
     "output_type": "execute_result"
    }
   ],
   "source": [
    "from_address = email\n",
    "to_address = 'info@thegoldbugs.com'\n",
    "subject = input('enter the subject line: ')\n",
    "message = input('enter the body of the message: ')\n",
    "msg = \"Subject: \" + subject + '\\n\\n'+ message\n",
    "\n",
    "smtp_object.sendmail(from_address,to_address,msg)\n",
    "#print(msg)"
   ]
  },
  {
   "cell_type": "code",
   "execution_count": 44,
   "metadata": {},
   "outputs": [
    {
     "name": "stderr",
     "output_type": "stream",
     "text": [
      "12:30:29.580803 send: 'quit\\r\\n'\n",
      "12:30:29.617025 reply: b'221 2.0.0 Service closing transmission channel\\r\\n'\n",
      "12:30:29.618014 reply: retcode (221); Msg: b'2.0.0 Service closing transmission channel'\n"
     ]
    },
    {
     "data": {
      "text/plain": [
       "(221, b'2.0.0 Service closing transmission channel')"
      ]
     },
     "execution_count": 44,
     "metadata": {},
     "output_type": "execute_result"
    }
   ],
   "source": [
    "smtp_object.quit()"
   ]
  },
  {
   "cell_type": "code",
   "execution_count": null,
   "metadata": {},
   "outputs": [],
   "source": []
  }
 ],
 "metadata": {
  "kernelspec": {
   "display_name": "Python 3",
   "language": "python",
   "name": "python3"
  },
  "language_info": {
   "codemirror_mode": {
    "name": "ipython",
    "version": 3
   },
   "file_extension": ".py",
   "mimetype": "text/x-python",
   "name": "python",
   "nbconvert_exporter": "python",
   "pygments_lexer": "ipython3",
   "version": "3.6.4"
  }
 },
 "nbformat": 4,
 "nbformat_minor": 2
}
