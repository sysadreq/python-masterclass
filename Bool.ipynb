{
 "cells": [
  {
   "cell_type": "markdown",
   "metadata": {},
   "source": [
    "Control flow basics\n",
    "\n",
    "Syntax of an if statement\n",
    "\n",
    "    if some_condition:\n",
    "        # execute some code\n",
    "    elif 1==1:\n",
    "        print(\"something\")\n",
    "    else:\n",
    "        # do something else\n",
    "        \n",
    "       "
   ]
  },
  {
   "cell_type": "code",
   "execution_count": 2,
   "metadata": {},
   "outputs": [
    {
     "name": "stdout",
     "output_type": "stream",
     "text": [
      "condition meT\n"
     ]
    }
   ],
   "source": [
    "if 1<2:\n",
    "    print('condition meT')"
   ]
  },
  {
   "cell_type": "code",
   "execution_count": 3,
   "metadata": {},
   "outputs": [],
   "source": [
    "cond = 1<2"
   ]
  },
  {
   "cell_type": "code",
   "execution_count": 4,
   "metadata": {},
   "outputs": [
    {
     "name": "stdout",
     "output_type": "stream",
     "text": [
      "cond met\n"
     ]
    }
   ],
   "source": [
    "if cond:\n",
    "    print('cond met')"
   ]
  },
  {
   "cell_type": "code",
   "execution_count": 7,
   "metadata": {},
   "outputs": [
    {
     "name": "stdout",
     "output_type": "stream",
     "text": [
      "not met\n"
     ]
    }
   ],
   "source": [
    "if 1==2:\n",
    "    print('condition met')\n",
    "else:\n",
    "    print('not met')\n"
   ]
  },
  {
   "cell_type": "code",
   "execution_count": 8,
   "metadata": {},
   "outputs": [],
   "source": [
    "if 2==0:\n",
    "    print('first condition true')\n",
    "elif 2==1:\n",
    "    print('second condition true')\n",
    "elif 2==2:\n",
    "    print('third condition true')\n",
    "else:\n",
    "    print('nothing above is true')"
   ]
  },
  {
   "cell_type": "code",
   "execution_count": 9,
   "metadata": {},
   "outputs": [],
   "source": [
    "agent_code=231912\n",
    "access = False"
   ]
  },
  {
   "cell_type": "code",
   "execution_count": 13,
   "metadata": {},
   "outputs": [
    {
     "name": "stdout",
     "output_type": "stream",
     "text": [
      "welcome agent 231912\n",
      "Access Granted\n"
     ]
    }
   ],
   "source": [
    "if agent_code==12345:\n",
    "    print('CODE RESET')\n",
    "    print('call a supervisor')\n",
    "elif agent_code==231912:\n",
    "    print('welcome agent 231912')\n",
    "    access=True\n",
    "else:\n",
    "    print('sorry no matching code')\n",
    "    \n",
    "    \n",
    "####\n",
    "####\n",
    "\n",
    "if access == True:\n",
    "    print('Access Granted')\n",
    "else:\n",
    "    print('Access Denied')\n",
    "    \n",
    "    "
   ]
  },
  {
   "cell_type": "code",
   "execution_count": null,
   "metadata": {},
   "outputs": [],
   "source": []
  }
 ],
 "metadata": {
  "kernelspec": {
   "display_name": "Python 3",
   "language": "python",
   "name": "python3"
  },
  "language_info": {
   "codemirror_mode": {
    "name": "ipython",
    "version": 3
   },
   "file_extension": ".py",
   "mimetype": "text/x-python",
   "name": "python",
   "nbconvert_exporter": "python",
   "pygments_lexer": "ipython3",
   "version": "3.6.4"
  }
 },
 "nbformat": 4,
 "nbformat_minor": 2
}
