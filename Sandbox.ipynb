{
 "cells": [
  {
   "cell_type": "code",
   "execution_count": 1,
   "metadata": {},
   "outputs": [],
   "source": [
    "import string\n",
    "import random"
   ]
  },
  {
   "cell_type": "code",
   "execution_count": 327,
   "metadata": {},
   "outputs": [],
   "source": [
    "class Encryption():\n",
    "    \n",
    "    def __init__(self,seed):\n",
    "        \n",
    "        # Set a random seed and a self.seed attribute\n",
    "        self.seed = seed\n",
    "        random.seed(self.seed)\n",
    "        \n",
    "        # Create an empty string attribute to hold the encrypted phrase\n",
    "        self.encrypted_phrase = None\n",
    "        \n",
    "        # Use the string and random libraries to create two attributes\n",
    "        # One is the correct alphabet, another is a shuffled alphabet (hint: random.sample())\n",
    "        self.alphabet = string.ascii_lowercase\n",
    "        self.new_alphabet = \"\".join(random.sample(self.alphabet,26))\n",
    "\n",
    "###########################################################################################################################        \n",
    "        \n",
    "    def encryption(self,message):\n",
    "        '''\n",
    "        This method will take in a string message and encrypt it. Check the video or \n",
    "        the instructions above in the markdown for full description of how your\n",
    "        decryption method should work.\n",
    "        \n",
    "        '''\n",
    "        self.message = message\n",
    "        plain_self_message = self.message\n",
    "        output1 = list(self.message)\n",
    "        \n",
    "        ###############################################################\n",
    "        ### STEP 1: REPLACE EVERY OTHER LETTER WITH A RANDOM LETTER ###\n",
    "        ###############################################################\n",
    "        \n",
    "        x=1\n",
    "        for i,letter in enumerate(plain_self_message):\n",
    "            output1.insert(i+x,random.choice(self.alphabet))\n",
    "            x+=1   \n",
    "        self.encrypted_lvl1=\"\".join(output1)\n",
    "        \n",
    "        #################################################\n",
    "        ### STEP 2: REVERSE THE STRING  #################\n",
    "        #################################################\n",
    "        \n",
    "        self.reverse_1 = self.encrypted_lvl1[::-1]\n",
    "        plain = list(self.reverse_1)\n",
    "        self.encrypted_lvl2 = list(self.reverse_1)\n",
    "         \n",
    "        ##########################################################################\n",
    "        ##### STEP 3: USE THE RANDOM SHUFFLED ALPHABET FOR A Caeser CIPHER #######\n",
    "        ##########################################################################\n",
    "              \n",
    "        for k, letter in enumerate(plain):\n",
    "            for m,alpha in enumerate(self.alphabet):\n",
    "                if letter.lower() == alpha:\n",
    "                    self.encrypted_lvl2[k] = self.new_alphabet[m]\n",
    "        self.encrypted_lvl3 = \"\".join(self.encrypted_lvl2)\n",
    "        \n",
    "###########################################################################################################################\n",
    "    \n",
    "    def decryption(self,message,seed):\n",
    "        '''\n",
    "        This method takes in a messsage and a seed for the random shuffled alphabet.\n",
    "        It then returns the decrypted alphabet.\n",
    "        '''\n",
    "        self.message = message\n",
    "        orig_encrypted_message = message\n",
    "        encrypted_message = list(orig_encrypted_message)\n",
    "        random.seed(self.seed)\n",
    "        self.decrypted_lvl1 = None\n",
    "        \n",
    "        \n",
    "        ##########################################################################\n",
    "        ##### STEP 1: USE THE RANDOM SHUFFLED ALPHABET FOR A Caeser CIPHER #######\n",
    "        ##########################################################################\n",
    "        \n",
    "        for k, letter in enumerate(orig_encrypted_message):\n",
    "            for m,alpha in enumerate(self.new_alphabet):\n",
    "                if letter.lower() == alpha:\n",
    "                    encrypted_message[k] = self.alphabet[m]\n",
    "        self.decrypted_lvl1 = \"\".join(encrypted_message)\n",
    "        \n",
    "        #################################################\n",
    "        ### STEP 2: REVERSE THE STRING  #################\n",
    "        #################################################\n",
    "        \n",
    "        self.decrypted_lvl2 = list(self.decrypted_lvl1[::-1])\n",
    "        decrypted_lvl2_temp = self.decrypted_lvl2\n",
    "        self.decrypted_temp = list(self.decrypted_lvl1[::-1])\n",
    "       \n",
    "        \n",
    "        ###############################################################\n",
    "        ### STEP 1: REPLACE EVERY OTHER LETTER WITH A RANDOM LETTER ###\n",
    "        ###############################################################\n",
    "        \n",
    "        self.decrypted_lvl3 = \"\".join(self.decrypted_lvl2[0:len(self.decrypted_lvl2):2])"
   ]
  },
  {
   "cell_type": "code",
   "execution_count": 328,
   "metadata": {},
   "outputs": [],
   "source": [
    "e = Encryption(20)"
   ]
  },
  {
   "cell_type": "code",
   "execution_count": 329,
   "metadata": {},
   "outputs": [],
   "source": [
    "e.encryption('hello world')\n"
   ]
  },
  {
   "cell_type": "code",
   "execution_count": 330,
   "metadata": {},
   "outputs": [
    {
     "data": {
      "text/plain": [
       "'divgkjocdze bcrgqghywk'"
      ]
     },
     "execution_count": 330,
     "metadata": {},
     "output_type": "execute_result"
    }
   ],
   "source": [
    "e.encrypted_lvl3"
   ]
  },
  {
   "cell_type": "code",
   "execution_count": 331,
   "metadata": {},
   "outputs": [],
   "source": [
    "e.decryption('divgkjocdze bcrgqghywk',20)"
   ]
  },
  {
   "cell_type": "code",
   "execution_count": 332,
   "metadata": {},
   "outputs": [
    {
     "data": {
      "text/plain": [
       "'hello world'"
      ]
     },
     "execution_count": 332,
     "metadata": {},
     "output_type": "execute_result"
    }
   ],
   "source": [
    "e.decrypted_lvl3"
   ]
  },
  {
   "cell_type": "code",
   "execution_count": null,
   "metadata": {},
   "outputs": [],
   "source": []
  },
  {
   "cell_type": "code",
   "execution_count": null,
   "metadata": {},
   "outputs": [],
   "source": []
  },
  {
   "cell_type": "code",
   "execution_count": null,
   "metadata": {},
   "outputs": [],
   "source": []
  },
  {
   "cell_type": "code",
   "execution_count": null,
   "metadata": {},
   "outputs": [],
   "source": []
  },
  {
   "cell_type": "code",
   "execution_count": null,
   "metadata": {},
   "outputs": [],
   "source": []
  },
  {
   "cell_type": "code",
   "execution_count": null,
   "metadata": {},
   "outputs": [],
   "source": []
  },
  {
   "cell_type": "code",
   "execution_count": null,
   "metadata": {},
   "outputs": [],
   "source": []
  }
 ],
 "metadata": {
  "kernelspec": {
   "display_name": "Python 3",
   "language": "python",
   "name": "python3"
  },
  "language_info": {
   "codemirror_mode": {
    "name": "ipython",
    "version": 3
   },
   "file_extension": ".py",
   "mimetype": "text/x-python",
   "name": "python",
   "nbconvert_exporter": "python",
   "pygments_lexer": "ipython3",
   "version": "3.6.4"
  }
 },
 "nbformat": 4,
 "nbformat_minor": 2
}
